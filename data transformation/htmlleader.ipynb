{
 "cells": [
  {
   "cell_type": "code",
   "execution_count": 2,
   "metadata": {},
   "outputs": [
    {
     "data": {
      "text/plain": [
       "[Document(metadata={}, page_content=\"Stanford Encyclopedia of Philosophy  \\nMenu  \\nBrowse About Support SEP  \\nTable of Contents What's New Random Entry Chronological Archives  \\nEditorial Information About the SEP Editorial Board How to Cite the SEP Special Characters Advanced Tools Contact  \\nSupport the SEP PDFs for SEP Friends Make a Donation SEPIA for Libraries  \\nSearch Search Tips  \\nBrowse\"),\n",
       " Document(metadata={'Header2': 'Browse'}, page_content=\"Table of Contents  \\nWhat's New Archives Random Entry\"),\n",
       " Document(metadata={}, page_content=\"The Stanford Encyclopedia of Philosophy organizes scholars from around the world in philosophy and related disciplines to create and maintain an up-to-date reference work.  \\nCo-Principal Editors: Edward N. Zalta and Uri Nodelman  \\nMasthead | Editorial Board  \\nCurrent Operations Are Supported By:  \\nThe Offices of the Provost, the Dean of Humanities and Sciences, and the Dean of Research, Stanford University The SEP Library Fund: containing contributions from the National Endowment for the Humanities and the membership dues of academic libraries that have joined SEPIA. The O.C. Tanner SEP Fund: containing a gift from the O.C. Tanner Company. The John Perry Fund and The SEP Fund: containing contributions from individual donors. The Friends of the SEP Society Fund: containing membership dues from individuals who have joined the Friends of the SEP Society to obtain such member benefits as nicely formatted PDF versions of SEP entries.  \\nThe SEP gratefully acknowledges founding support from the National Endowment for the Humanities, the National Science Foundation, The American Philosophical Association/Pacific Division, The Canadian Philosophical Association, and the Philosophy Documentation Center. Fundraising efforts were supported by a grant from The William and Flora Hewlett Foundation.  \\nBrowse  \\nTable of Contents What's New Random Entry Chronological Archives  \\nAbout  \\nEditorial Information About the SEP Editorial Board How to Cite the SEP Special Characters Advanced Tools Accessibility Contact  \\nSupport SEP  \\nSupport the SEP PDFs for SEP Friends Make a Donation SEPIA for Libraries  \\nMirror Sites  \\nView this site from another server:  \\nUSA (Main Site) Philosophy, Stanford University  \\nInfo about mirror sites  \\nThe Stanford Encyclopedia of Philosophy is copyright © 2024 by The Metaphysics Research Lab, Department of Philosophy, Stanford University  \\nLibrary of Congress Catalog Data: ISSN 1095-5054\")]"
      ]
     },
     "execution_count": 2,
     "metadata": {},
     "output_type": "execute_result"
    }
   ],
   "source": [
    "from langchain_text_splitters import HTMLHeaderTextSplitter\n",
    "\n",
    "url = \" https://plato.stanford.edu/index.html\"\n",
    "\n",
    "headers_to_split_on = [(\"h1\",\"Header1\") ,(\"h2\",\"Header2\"),(\"h3\",\"Header3\")]\n",
    "\n",
    "text = HTMLHeaderTextSplitter(headers_to_split_on)\n",
    "tex = text.split_text_from_url(url)\n",
    "\n",
    "tex"
   ]
  }
 ],
 "metadata": {
  "kernelspec": {
   "display_name": "venv",
   "language": "python",
   "name": "python3"
  },
  "language_info": {
   "codemirror_mode": {
    "name": "ipython",
    "version": 3
   },
   "file_extension": ".py",
   "mimetype": "text/x-python",
   "name": "python",
   "nbconvert_exporter": "python",
   "pygments_lexer": "ipython3",
   "version": "3.10.16"
  }
 },
 "nbformat": 4,
 "nbformat_minor": 2
}
